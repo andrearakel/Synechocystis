{
  "nbformat": 4,
  "nbformat_minor": 0,
  "metadata": {
    "colab": {
      "name": "Comparison-fin.ipynb",
      "provenance": [],
      "collapsed_sections": []
    },
    "kernelspec": {
      "name": "python3",
      "display_name": "Python 3"
    },
    "accelerator": "GPU"
  },
  "cells": [
    {
      "cell_type": "code",
      "metadata": {
        "id": "kA4Mp7W3W50-",
        "colab": {
          "base_uri": "https://localhost:8080/"
        },
        "outputId": "d65ebd1b-58de-4526-835e-051eba3c1e07"
      },
      "source": [
        "!pip install rich==6.2.0\n",
        "!pip install cobra\n",
        "import cobra.test\n",
        "from cobra import Model, Reaction, Metabolite\n",
        "from cobra.util.solver import linear_reaction_coefficients"
      ],
      "execution_count": null,
      "outputs": [
        {
          "output_type": "stream",
          "text": [
            "Collecting rich==6.2.0\n",
            "\u001b[?25l  Downloading https://files.pythonhosted.org/packages/58/2c/d04cb7fa7fdf8c89f3bc79b859b74f283369f78dc8caae3e1b91acc1d624/rich-6.2.0-py3-none-any.whl (150kB)\n",
            "\r\u001b[K     |██▏                             | 10kB 21.5MB/s eta 0:00:01\r\u001b[K     |████▍                           | 20kB 28.2MB/s eta 0:00:01\r\u001b[K     |██████▌                         | 30kB 23.5MB/s eta 0:00:01\r\u001b[K     |████████▊                       | 40kB 18.9MB/s eta 0:00:01\r\u001b[K     |███████████                     | 51kB 13.9MB/s eta 0:00:01\r\u001b[K     |█████████████                   | 61kB 15.3MB/s eta 0:00:01\r\u001b[K     |███████████████▎                | 71kB 15.1MB/s eta 0:00:01\r\u001b[K     |█████████████████▌              | 81kB 14.4MB/s eta 0:00:01\r\u001b[K     |███████████████████▋            | 92kB 14.2MB/s eta 0:00:01\r\u001b[K     |█████████████████████▉          | 102kB 14.7MB/s eta 0:00:01\r\u001b[K     |████████████████████████        | 112kB 14.7MB/s eta 0:00:01\r\u001b[K     |██████████████████████████▏     | 122kB 14.7MB/s eta 0:00:01\r\u001b[K     |████████████████████████████▍   | 133kB 14.7MB/s eta 0:00:01\r\u001b[K     |██████████████████████████████▋ | 143kB 14.7MB/s eta 0:00:01\r\u001b[K     |████████████████████████████████| 153kB 14.7MB/s \n",
            "\u001b[?25hRequirement already satisfied: typing-extensions<4.0.0,>=3.7.4 in /usr/local/lib/python3.7/dist-packages (from rich==6.2.0) (3.7.4.3)\n",
            "Collecting commonmark<0.10.0,>=0.9.0\n",
            "\u001b[?25l  Downloading https://files.pythonhosted.org/packages/b1/92/dfd892312d822f36c55366118b95d914e5f16de11044a27cf10a7d71bbbf/commonmark-0.9.1-py2.py3-none-any.whl (51kB)\n",
            "\r\u001b[K     |██████▍                         | 10kB 26.8MB/s eta 0:00:01\r\u001b[K     |████████████▉                   | 20kB 31.7MB/s eta 0:00:01\r\u001b[K     |███████████████████▎            | 30kB 35.5MB/s eta 0:00:01\r\u001b[K     |█████████████████████████▋      | 40kB 38.4MB/s eta 0:00:01\r\u001b[K     |████████████████████████████████| 51kB 7.1MB/s \n",
            "\u001b[?25hCollecting colorama<0.5.0,>=0.4.0\n",
            "  Downloading https://files.pythonhosted.org/packages/44/98/5b86278fbbf250d239ae0ecb724f8572af1c91f4a11edf4d36a206189440/colorama-0.4.4-py2.py3-none-any.whl\n",
            "Requirement already satisfied: pygments<3.0.0,>=2.6.0 in /usr/local/lib/python3.7/dist-packages (from rich==6.2.0) (2.6.1)\n",
            "Installing collected packages: commonmark, colorama, rich\n",
            "Successfully installed colorama-0.4.4 commonmark-0.9.1 rich-6.2.0\n",
            "Collecting cobra\n",
            "\u001b[?25l  Downloading https://files.pythonhosted.org/packages/9c/c0/bea19dbbe6e4907a591272100717f491b82ff8a485b4ff1528182532bbcf/cobra-0.21.0-py2.py3-none-any.whl (2.4MB)\n",
            "\u001b[K     |████████████████████████████████| 2.4MB 18.5MB/s \n",
            "\u001b[?25hRequirement already satisfied: appdirs~=1.4 in /usr/local/lib/python3.7/dist-packages (from cobra) (1.4.4)\n",
            "Requirement already satisfied: importlib-resources in /usr/local/lib/python3.7/dist-packages (from cobra) (5.1.2)\n",
            "Collecting depinfo\n",
            "  Downloading https://files.pythonhosted.org/packages/af/8b/cee6dca4c4708705444c9cad9e783b9212cc51cab8a5e05ccfe930f53058/depinfo-1.7.0-py2.py3-none-any.whl\n",
            "Collecting pydantic~=1.6\n",
            "\u001b[?25l  Downloading https://files.pythonhosted.org/packages/2b/a3/0ffdb6c63f45f10d19b8e8b32670b22ed089cafb29732f6bf8ce518821fb/pydantic-1.8.1-cp37-cp37m-manylinux2014_x86_64.whl (10.1MB)\n",
            "\u001b[K     |████████████████████████████████| 10.1MB 42.6MB/s \n",
            "\u001b[?25hRequirement already satisfied: six in /usr/local/lib/python3.7/dist-packages (from cobra) (1.15.0)\n",
            "Collecting swiglpk\n",
            "\u001b[?25l  Downloading https://files.pythonhosted.org/packages/80/48/ff3ce61567f667629268b272d4c57f980ff0a8d4bdf991a593be12384186/swiglpk-5.0.3-cp37-cp37m-manylinux2010_x86_64.whl (2.1MB)\n",
            "\u001b[K     |████████████████████████████████| 2.1MB 48.1MB/s \n",
            "\u001b[?25hRequirement already satisfied: future in /usr/local/lib/python3.7/dist-packages (from cobra) (0.16.0)\n",
            "Collecting diskcache~=5.0\n",
            "\u001b[?25l  Downloading https://files.pythonhosted.org/packages/6a/5e/3deb8f9c83bead2af6f2cda97c4400516488464fede2853875a81e502953/diskcache-5.2.1-py3-none-any.whl (44kB)\n",
            "\u001b[K     |████████████████████████████████| 51kB 6.7MB/s \n",
            "\u001b[?25hRequirement already satisfied: numpy~=1.13 in /usr/local/lib/python3.7/dist-packages (from cobra) (1.19.5)\n",
            "Collecting python-libsbml==5.19.0\n",
            "\u001b[?25l  Downloading https://files.pythonhosted.org/packages/93/13/2df22b77ee9125381a00aa4dc63de1776bb84d773655d2770416e81416cd/python_libsbml-5.19.0-cp37-cp37m-manylinux1_x86_64.whl (6.2MB)\n",
            "\u001b[K     |████████████████████████████████| 6.2MB 28.7MB/s \n",
            "\u001b[?25hCollecting optlang<1.4.6\n",
            "\u001b[?25l  Downloading https://files.pythonhosted.org/packages/5b/6a/25e8c4a0b487e5e23b968942e85a52e3072b38ddb3619e52e89c2e822d65/optlang-1.4.4-py2.py3-none-any.whl (125kB)\n",
            "\u001b[K     |████████████████████████████████| 133kB 55.5MB/s \n",
            "\u001b[?25hCollecting httpx~=0.14\n",
            "\u001b[?25l  Downloading https://files.pythonhosted.org/packages/6f/87/241b482701ba3d58831a4af50bf2880259dc7c11a89504a3b0d70fa298cd/httpx-0.17.1-py3-none-any.whl (68kB)\n",
            "\u001b[K     |████████████████████████████████| 71kB 2.1MB/s \n",
            "\u001b[?25hRequirement already satisfied: pandas~=1.0 in /usr/local/lib/python3.7/dist-packages (from cobra) (1.1.5)\n",
            "Requirement already satisfied: rich~=6.0 in /usr/local/lib/python3.7/dist-packages (from cobra) (6.2.0)\n",
            "Collecting ruamel.yaml~=0.16\n",
            "\u001b[?25l  Downloading https://files.pythonhosted.org/packages/29/4e/c3105bbbbc662f6a671a505f00ec771e93b5254f09fbb06002af9087071a/ruamel.yaml-0.17.4-py3-none-any.whl (101kB)\n",
            "\u001b[K     |████████████████████████████████| 102kB 11.3MB/s \n",
            "\u001b[?25hRequirement already satisfied: zipp>=0.4; python_version < \"3.8\" in /usr/local/lib/python3.7/dist-packages (from importlib-resources->cobra) (3.4.1)\n",
            "Requirement already satisfied: importlib-metadata; python_version < \"3.8\" in /usr/local/lib/python3.7/dist-packages (from depinfo->cobra) (3.8.1)\n",
            "Requirement already satisfied: typing-extensions>=3.7.4.3 in /usr/local/lib/python3.7/dist-packages (from pydantic~=1.6->cobra) (3.7.4.3)\n",
            "Requirement already satisfied: sympy>=1.0.0 in /usr/local/lib/python3.7/dist-packages (from optlang<1.4.6->cobra) (1.7.1)\n",
            "Requirement already satisfied: certifi in /usr/local/lib/python3.7/dist-packages (from httpx~=0.14->cobra) (2020.12.5)\n",
            "Collecting rfc3986[idna2008]<2,>=1.3\n",
            "  Downloading https://files.pythonhosted.org/packages/78/be/7b8b99fd74ff5684225f50dd0e865393d2265656ef3b4ba9eaaaffe622b8/rfc3986-1.4.0-py2.py3-none-any.whl\n",
            "Collecting sniffio\n",
            "  Downloading https://files.pythonhosted.org/packages/52/b0/7b2e028b63d092804b6794595871f936aafa5e9322dcaaad50ebf67445b3/sniffio-1.2.0-py3-none-any.whl\n",
            "Collecting httpcore<0.13,>=0.12.1\n",
            "\u001b[?25l  Downloading https://files.pythonhosted.org/packages/50/ce/544244e2145075896d38f7db3e822c24d1be9f7966ed3d83f158e388d195/httpcore-0.12.3-py3-none-any.whl (55kB)\n",
            "\u001b[K     |████████████████████████████████| 61kB 7.6MB/s \n",
            "\u001b[?25hRequirement already satisfied: python-dateutil>=2.7.3 in /usr/local/lib/python3.7/dist-packages (from pandas~=1.0->cobra) (2.8.1)\n",
            "Requirement already satisfied: pytz>=2017.2 in /usr/local/lib/python3.7/dist-packages (from pandas~=1.0->cobra) (2018.9)\n",
            "Requirement already satisfied: commonmark<0.10.0,>=0.9.0 in /usr/local/lib/python3.7/dist-packages (from rich~=6.0->cobra) (0.9.1)\n",
            "Requirement already satisfied: pygments<3.0.0,>=2.6.0 in /usr/local/lib/python3.7/dist-packages (from rich~=6.0->cobra) (2.6.1)\n",
            "Requirement already satisfied: colorama<0.5.0,>=0.4.0 in /usr/local/lib/python3.7/dist-packages (from rich~=6.0->cobra) (0.4.4)\n",
            "Collecting ruamel.yaml.clib>=0.1.2; platform_python_implementation == \"CPython\" and python_version < \"3.10\"\n",
            "\u001b[?25l  Downloading https://files.pythonhosted.org/packages/5e/6e/f652c56bbb2c3d3fca252ffc7c0358597f57a1bbdf484dac683054950c63/ruamel.yaml.clib-0.2.2-cp37-cp37m-manylinux1_x86_64.whl (547kB)\n",
            "\u001b[K     |████████████████████████████████| 552kB 54.9MB/s \n",
            "\u001b[?25hRequirement already satisfied: mpmath>=0.19 in /usr/local/lib/python3.7/dist-packages (from sympy>=1.0.0->optlang<1.4.6->cobra) (1.2.1)\n",
            "Requirement already satisfied: idna; extra == \"idna2008\" in /usr/local/lib/python3.7/dist-packages (from rfc3986[idna2008]<2,>=1.3->httpx~=0.14->cobra) (2.10)\n",
            "Collecting h11==0.*\n",
            "\u001b[?25l  Downloading https://files.pythonhosted.org/packages/60/0f/7a0eeea938eaf61074f29fed9717f2010e8d0e0905d36b38d3275a1e4622/h11-0.12.0-py3-none-any.whl (54kB)\n",
            "\u001b[K     |████████████████████████████████| 61kB 8.5MB/s \n",
            "\u001b[?25hInstalling collected packages: depinfo, pydantic, swiglpk, diskcache, python-libsbml, optlang, rfc3986, sniffio, h11, httpcore, httpx, ruamel.yaml.clib, ruamel.yaml, cobra\n",
            "Successfully installed cobra-0.21.0 depinfo-1.7.0 diskcache-5.2.1 h11-0.12.0 httpcore-0.12.3 httpx-0.17.1 optlang-1.4.4 pydantic-1.8.1 python-libsbml-5.19.0 rfc3986-1.4.0 ruamel.yaml-0.17.4 ruamel.yaml.clib-0.2.2 sniffio-1.2.0 swiglpk-5.0.3\n"
          ],
          "name": "stdout"
        }
      ]
    },
    {
      "cell_type": "code",
      "metadata": {
        "id": "z5OffZMFFVpJ",
        "colab": {
          "base_uri": "https://localhost:8080/"
        },
        "outputId": "a146e75b-d082-4148-812a-a4e7b8dd5c93"
      },
      "source": [
        "import cobra.test\n",
        "import os\n",
        "from os.path import join\n",
        "\n",
        "data_dir = cobra.test.data_dir\n",
        "\n",
        "print(\"mini test files: \")\n",
        "print(\", \".join(i for i in os.listdir(data_dir)\n",
        "                if i.startswith(\"mini\")))\n"
      ],
      "execution_count": null,
      "outputs": [
        {
          "output_type": "stream",
          "text": [
            "mini test files: \n",
            "mini.mat, mini_cobra.xml, mini_fbc2.xml.gz, mini_fbc2.xml, mini.pickle, mini_fbc1.xml, mini.yml, mini.json, mini_fbc2.xml.bz2\n"
          ],
          "name": "stdout"
        }
      ]
    },
    {
      "cell_type": "markdown",
      "metadata": {
        "id": "xPHEiXCYMBMP"
      },
      "source": [
        "Load the Synechocystis core model:"
      ]
    },
    {
      "cell_type": "code",
      "metadata": {
        "id": "F5NpNqe1OGim",
        "colab": {
          "base_uri": "https://localhost:8080/"
        },
        "outputId": "8c8bdd1c-94fa-4c25-c25a-de79972d7d7e"
      },
      "source": [
        "from google.colab import drive\n",
        "drive.mount('/content/drive')"
      ],
      "execution_count": null,
      "outputs": [
        {
          "output_type": "stream",
          "text": [
            "Drive already mounted at /content/drive; to attempt to forcibly remount, call drive.mount(\"/content/drive\", force_remount=True).\n"
          ],
          "name": "stdout"
        }
      ]
    },
    {
      "cell_type": "code",
      "metadata": {
        "id": "MCjNOaP3W8cv",
        "colab": {
          "base_uri": "https://localhost:8080/",
          "height": 880
        },
        "outputId": "5737bf38-2fc4-467e-9b08-1f637698f02d"
      },
      "source": [
        "model = cobra.io.read_sbml_model(join(data_dir, \"/content/drive/MyDrive/Colab Notebooks/MODEL1507180046_url.xml\"))\n",
        "model_base = cobra.io.read_sbml_model(join(data_dir, \"/content/drive/MyDrive/Colab Notebooks/MODEL1507180046_url.xml\"))\n",
        "\n",
        "\n",
        "model.summary()"
      ],
      "execution_count": null,
      "outputs": [
        {
          "output_type": "execute_result",
          "data": {
            "text/html": [
              "<h3>Objective</h3><p>1.0 Ec_biomass_SynHetero = 0.06314983713171073</p><h4>Uptake</h4><table border=\"1\" class=\"dataframe\">\n",
              "  <thead>\n",
              "    <tr style=\"text-align: right;\">\n",
              "      <th>Metabolite</th>\n",
              "      <th>Reaction</th>\n",
              "      <th>Flux</th>\n",
              "      <th>C-Number</th>\n",
              "      <th>C-Flux</th>\n",
              "    </tr>\n",
              "  </thead>\n",
              "  <tbody>\n",
              "    <tr>\n",
              "      <td>ca2_e</td>\n",
              "      <td>EX_ca2_e</td>\n",
              "      <td>0.0002849</td>\n",
              "      <td>0</td>\n",
              "      <td>0.00%</td>\n",
              "    </tr>\n",
              "    <tr>\n",
              "      <td>cobalt2_e</td>\n",
              "      <td>EX_cobalt2_e</td>\n",
              "      <td>0.0002054</td>\n",
              "      <td>0</td>\n",
              "      <td>0.00%</td>\n",
              "    </tr>\n",
              "    <tr>\n",
              "      <td>cu2_e</td>\n",
              "      <td>EX_cu2_e</td>\n",
              "      <td>0.00019</td>\n",
              "      <td>0</td>\n",
              "      <td>0.00%</td>\n",
              "    </tr>\n",
              "    <tr>\n",
              "      <td>fe2_e</td>\n",
              "      <td>EX_fe2_e</td>\n",
              "      <td>0.0004727</td>\n",
              "      <td>0</td>\n",
              "      <td>0.00%</td>\n",
              "    </tr>\n",
              "    <tr>\n",
              "      <td>fe3_e</td>\n",
              "      <td>EX_fe3_e</td>\n",
              "      <td>0.0004304</td>\n",
              "      <td>0</td>\n",
              "      <td>0.00%</td>\n",
              "    </tr>\n",
              "    <tr>\n",
              "      <td>glc_DASH_D_e</td>\n",
              "      <td>EX_glc_DASH_D_e</td>\n",
              "      <td>0.85</td>\n",
              "      <td>6</td>\n",
              "      <td>100.00%</td>\n",
              "    </tr>\n",
              "    <tr>\n",
              "      <td>h_e</td>\n",
              "      <td>EX_h_e</td>\n",
              "      <td>0.6286</td>\n",
              "      <td>0</td>\n",
              "      <td>0.00%</td>\n",
              "    </tr>\n",
              "    <tr>\n",
              "      <td>k_e</td>\n",
              "      <td>EX_k_e</td>\n",
              "      <td>0.01068</td>\n",
              "      <td>0</td>\n",
              "      <td>0.00%</td>\n",
              "    </tr>\n",
              "    <tr>\n",
              "      <td>mg2_e</td>\n",
              "      <td>EX_mg2_e</td>\n",
              "      <td>0.001816</td>\n",
              "      <td>0</td>\n",
              "      <td>0.00%</td>\n",
              "    </tr>\n",
              "    <tr>\n",
              "      <td>mn2_e</td>\n",
              "      <td>EX_mn2_e</td>\n",
              "      <td>0.0001913</td>\n",
              "      <td>0</td>\n",
              "      <td>0.00%</td>\n",
              "    </tr>\n",
              "    <tr>\n",
              "      <td>mobd_e</td>\n",
              "      <td>EX_mobd_e</td>\n",
              "      <td>0.0001913</td>\n",
              "      <td>0</td>\n",
              "      <td>0.00%</td>\n",
              "    </tr>\n",
              "    <tr>\n",
              "      <td>na1_e</td>\n",
              "      <td>EX_na1_e</td>\n",
              "      <td>0.0002391</td>\n",
              "      <td>0</td>\n",
              "      <td>0.00%</td>\n",
              "    </tr>\n",
              "    <tr>\n",
              "      <td>no3_e</td>\n",
              "      <td>EX_no3_e</td>\n",
              "      <td>0.5692</td>\n",
              "      <td>0</td>\n",
              "      <td>0.00%</td>\n",
              "    </tr>\n",
              "    <tr>\n",
              "      <td>o2_e</td>\n",
              "      <td>EX_o2_e</td>\n",
              "      <td>1.188</td>\n",
              "      <td>0</td>\n",
              "      <td>0.00%</td>\n",
              "    </tr>\n",
              "    <tr>\n",
              "      <td>pi_e</td>\n",
              "      <td>EX_pi_e</td>\n",
              "      <td>0.04359</td>\n",
              "      <td>0</td>\n",
              "      <td>0.00%</td>\n",
              "    </tr>\n",
              "    <tr>\n",
              "      <td>so4_e</td>\n",
              "      <td>EX_so4_e</td>\n",
              "      <td>0.01198</td>\n",
              "      <td>0</td>\n",
              "      <td>0.00%</td>\n",
              "    </tr>\n",
              "    <tr>\n",
              "      <td>zn2_e</td>\n",
              "      <td>EX_zn2_e</td>\n",
              "      <td>0.00019</td>\n",
              "      <td>0</td>\n",
              "      <td>0.00%</td>\n",
              "    </tr>\n",
              "    <tr>\n",
              "      <td>rdmbzi_c</td>\n",
              "      <td>Sink_rdmbzi</td>\n",
              "      <td>1.408E-05</td>\n",
              "      <td>14</td>\n",
              "      <td>0.00%</td>\n",
              "    </tr>\n",
              "  </tbody>\n",
              "</table><h4>Secretion</h4><table border=\"1\" class=\"dataframe\">\n",
              "  <thead>\n",
              "    <tr style=\"text-align: right;\">\n",
              "      <th>Metabolite</th>\n",
              "      <th>Reaction</th>\n",
              "      <th>Flux</th>\n",
              "      <th>C-Number</th>\n",
              "      <th>C-Flux</th>\n",
              "    </tr>\n",
              "  </thead>\n",
              "  <tbody>\n",
              "    <tr>\n",
              "      <td>5mdru1p_c</td>\n",
              "      <td>DM_5mdru1p_c</td>\n",
              "      <td>-0.0004259</td>\n",
              "      <td>6</td>\n",
              "      <td>0.10%</td>\n",
              "    </tr>\n",
              "    <tr>\n",
              "      <td>co2_e</td>\n",
              "      <td>EX_co2_e</td>\n",
              "      <td>-2.535</td>\n",
              "      <td>1</td>\n",
              "      <td>99.90%</td>\n",
              "    </tr>\n",
              "    <tr>\n",
              "      <td>h2o_e</td>\n",
              "      <td>EX_h2o_e</td>\n",
              "      <td>-3.437</td>\n",
              "      <td>0</td>\n",
              "      <td>0.00%</td>\n",
              "    </tr>\n",
              "  </tbody>\n",
              "</table>"
            ],
            "text/plain": [
              "<cobra.summary.model_summary.ModelSummary at 0x7f00ca4f10d0>"
            ]
          },
          "metadata": {
            "tags": []
          },
          "execution_count": 5
        }
      ]
    },
    {
      "cell_type": "markdown",
      "metadata": {
        "id": "F7SVttUoV3af"
      },
      "source": [
        "Checking if autotrophic conditions are right, with FBA and pFBA:"
      ]
    },
    {
      "cell_type": "code",
      "metadata": {
        "id": "dRSEgyMpWBrd"
      },
      "source": [
        "model.objective = \"Ec_biomass_SynAuto\"\n",
        "model.reactions.get_by_id(\"EX_photon_e\").lower_bound = -100\n",
        "model.reactions.get_by_id(\"EX_glc_DASH_D_e\").lower_bound = 0\n",
        "model.reactions.get_by_id(\"EX_hco3_e\").lower_bound = -3.7\n",
        "sol = model.optimize()\n",
        "model.summary()"
      ],
      "execution_count": null,
      "outputs": []
    },
    {
      "cell_type": "markdown",
      "metadata": {
        "id": "fZA33ONzWxx9"
      },
      "source": [
        "Objective value at 0.884 (growth rate) for autotrophic conditions. Comparable to Nogales paper. "
      ]
    },
    {
      "cell_type": "code",
      "metadata": {
        "id": "2qbb4XHuW-TU"
      },
      "source": [
        "pFBA = cobra.flux_analysis.pfba(model)\n",
        "abs(sol.fluxes[\"Ec_biomass_SynAuto\"] - pFBA.fluxes[\"Ec_biomass_SynAuto\"])"
      ],
      "execution_count": null,
      "outputs": []
    },
    {
      "cell_type": "markdown",
      "metadata": {
        "id": "sC9wtbhrXvdu"
      },
      "source": [
        "pFBA performed to confirm that autotrophic conditions are correct. "
      ]
    },
    {
      "cell_type": "markdown",
      "metadata": {
        "id": "3eBvcRd0X9E3"
      },
      "source": [
        "## Comparison with other research:"
      ]
    },
    {
      "cell_type": "markdown",
      "metadata": {
        "id": "YAEMC6PCOnCE"
      },
      "source": [
        "Autotrophic conditions and demand function for G3P:"
      ]
    },
    {
      "cell_type": "code",
      "metadata": {
        "colab": {
          "base_uri": "https://localhost:8080/",
          "height": 441
        },
        "id": "vG3VZ_9LQFXX",
        "outputId": "d56f3241-0b27-4fc8-cc50-75cc7c138f43"
      },
      "source": [
        "model_base.objective = \"Ec_biomass_SynAuto\"\n",
        "model_base.reactions.get_by_id(\"EX_photon_e\").lower_bound = -100 \n",
        "model_base.reactions.get_by_id(\"EX_glc_DASH_D_e\").lower_bound = 0\n",
        "model_base.reactions.get_by_id(\"EX_hco3_e\").lower_bound = -3.7\n",
        "\n",
        "model_base.add_boundary(model_base.metabolites.get_by_id(\"g3p_c\"), type=\"demand\")\n",
        "model_base.objective = \"DM_g3p_c\"\n",
        "sol_base = model_base.optimize()\n",
        "model_base.summary()"
      ],
      "execution_count": null,
      "outputs": [
        {
          "output_type": "execute_result",
          "data": {
            "text/html": [
              "<h3>Objective</h3><p>1.0 DM_g3p_c = 1.2333333333331136</p><h4>Uptake</h4><table border=\"1\" class=\"dataframe\">\n",
              "  <thead>\n",
              "    <tr style=\"text-align: right;\">\n",
              "      <th>Metabolite</th>\n",
              "      <th>Reaction</th>\n",
              "      <th>Flux</th>\n",
              "      <th>C-Number</th>\n",
              "      <th>C-Flux</th>\n",
              "    </tr>\n",
              "  </thead>\n",
              "  <tbody>\n",
              "    <tr>\n",
              "      <td>h_e</td>\n",
              "      <td>EX_h_e</td>\n",
              "      <td>3.7</td>\n",
              "      <td>0</td>\n",
              "      <td>0.00%</td>\n",
              "    </tr>\n",
              "    <tr>\n",
              "      <td>hco3_e</td>\n",
              "      <td>EX_hco3_e</td>\n",
              "      <td>3.7</td>\n",
              "      <td>1</td>\n",
              "      <td>100.00%</td>\n",
              "    </tr>\n",
              "    <tr>\n",
              "      <td>photon_e</td>\n",
              "      <td>EX_photon_e</td>\n",
              "      <td>32.89</td>\n",
              "      <td>0</td>\n",
              "      <td>0.00%</td>\n",
              "    </tr>\n",
              "    <tr>\n",
              "      <td>pi_e</td>\n",
              "      <td>EX_pi_e</td>\n",
              "      <td>1.233</td>\n",
              "      <td>0</td>\n",
              "      <td>0.00%</td>\n",
              "    </tr>\n",
              "  </tbody>\n",
              "</table><h4>Secretion</h4><table border=\"1\" class=\"dataframe\">\n",
              "  <thead>\n",
              "    <tr style=\"text-align: right;\">\n",
              "      <th>Metabolite</th>\n",
              "      <th>Reaction</th>\n",
              "      <th>Flux</th>\n",
              "      <th>C-Number</th>\n",
              "      <th>C-Flux</th>\n",
              "    </tr>\n",
              "  </thead>\n",
              "  <tbody>\n",
              "    <tr>\n",
              "      <td>g3p_c</td>\n",
              "      <td>DM_g3p_c</td>\n",
              "      <td>-1.233</td>\n",
              "      <td>3</td>\n",
              "      <td>100.00%</td>\n",
              "    </tr>\n",
              "    <tr>\n",
              "      <td>h2o_e</td>\n",
              "      <td>EX_h2o_e</td>\n",
              "      <td>-1.233</td>\n",
              "      <td>0</td>\n",
              "      <td>0.00%</td>\n",
              "    </tr>\n",
              "    <tr>\n",
              "      <td>o2_e</td>\n",
              "      <td>EX_o2_e</td>\n",
              "      <td>-3.7</td>\n",
              "      <td>0</td>\n",
              "      <td>0.00%</td>\n",
              "    </tr>\n",
              "  </tbody>\n",
              "</table>"
            ],
            "text/plain": [
              "<cobra.summary.model_summary.ModelSummary at 0x7f00b33d8090>"
            ]
          },
          "metadata": {
            "tags": []
          },
          "execution_count": 7
        }
      ]
    },
    {
      "cell_type": "code",
      "metadata": {
        "id": "WguCnZkoXg79"
      },
      "source": [
        "model_ndh = model_base"
      ],
      "execution_count": null,
      "outputs": []
    },
    {
      "cell_type": "markdown",
      "metadata": {
        "id": "n8AOExqRJVL0"
      },
      "source": [
        "Simplified photosynthetic model:"
      ]
    },
    {
      "cell_type": "code",
      "metadata": {
        "id": "ft7pJI9IoiYZ"
      },
      "source": [
        "# Autotrophic conditions and G3P demand reaction\n",
        "model.objective = \"Ec_biomass_SynAuto\"\n",
        "model.reactions.get_by_id(\"EX_photon_e\").lower_bound = -100 \n",
        "model.reactions.get_by_id(\"EX_glc_DASH_D_e\").lower_bound = 0\n",
        "model.reactions.get_by_id(\"EX_hco3_e\").lower_bound = -3.7\n",
        "model.add_boundary(model.metabolites.get_by_id(\"g3p_c\"), type=\"demand\")\n",
        "\n",
        "# Simplified photosynthetic model \n",
        "# Contraining cytochrome c6-dependent reactions\n",
        "model.reactions.get_by_id(\"CBFC2\").lower_bound = 0\n",
        "model.reactions.get_by_id(\"CBFC2\").upper_bound = 0\n",
        "model.reactions.get_by_id(\"PSI_2\").lower_bound = 0\n",
        "model.reactions.get_by_id(\"PSI_2\").upper_bound = 0\n",
        "model.reactions.get_by_id(\"CYO1b_syn\").lower_bound = 0\n",
        "model.reactions.get_by_id(\"CYO1b_syn\").upper_bound = 0\n",
        "\n",
        "# Contraining NADH-dependent reactions\n",
        "model.reactions.get_by_id(\"NDH1_2p\").lower_bound = 0\n",
        "model.reactions.get_by_id(\"NDH1_2p\").upper_bound = 0\n",
        "model.reactions.get_by_id(\"NDH1_2u\").lower_bound = 0\n",
        "model.reactions.get_by_id(\"NDH1_2u\").upper_bound = 0\n",
        "\n",
        "# Constraining peryplasmatic reactions\n",
        "model.reactions.get_by_id(\"NDH1_1p\").lower_bound = 0\n",
        "model.reactions.get_by_id(\"NDH1_1p\").upper_bound = 0\n",
        "model.reactions.get_by_id(\"CYO1b2pp_syn\").lower_bound = 0\n",
        "model.reactions.get_by_id(\"CYO1b2pp_syn\").upper_bound = 0\n",
        "model.reactions.get_by_id(\"CBFCpp\").lower_bound = 0\n",
        "model.reactions.get_by_id(\"CBFCpp\").upper_bound = 0\n",
        "model.reactions.get_by_id(\"CYTBDpp\").lower_bound = 0\n",
        "model.reactions.get_by_id(\"CYTBDpp\").upper_bound = 0\n",
        "\n",
        "# Assumed irreversibility of ferredoxin NADPH reductase under autotrophic conditions\n",
        "model.reactions.get_by_id(\"FNOR\").lower_bound = 0\n",
        "\n",
        "# Assumed no excretion of CO2 under autotrophic conditions\n",
        "model.reactions.get_by_id(\"EX_co2_e\").upper_bound = 0\n",
        "\n",
        "# Building model lacking AEF pathways\n",
        "model.reactions.get_by_id(\"NDH1_1u\").lower_bound = 0\n",
        "model.reactions.get_by_id(\"NDH1_1u\").upper_bound = 0\n",
        "model.reactions.get_by_id(\"NDH2_syn\").lower_bound = 0\n",
        "model.reactions.get_by_id(\"NDH2_syn\").upper_bound = 0\n",
        "model.reactions.get_by_id(\"NDH1_3u\").lower_bound = 0\n",
        "model.reactions.get_by_id(\"NDH1_3u\").upper_bound = 0\n",
        "model.reactions.get_by_id(\"FQR\").lower_bound = 0\n",
        "model.reactions.get_by_id(\"FQR\").upper_bound = 0\n",
        "model.reactions.get_by_id(\"CYO1b2_syn\").lower_bound = 0\n",
        "model.reactions.get_by_id(\"CYO1b2_syn\").upper_bound = 0\n",
        "model.reactions.get_by_id(\"CYTBDu\").lower_bound = 0\n",
        "model.reactions.get_by_id(\"CYTBDu\").upper_bound = 0\n",
        "model.reactions.get_by_id(\"H2ASE_syn\").lower_bound = 0\n",
        "model.reactions.get_by_id(\"H2ASE_syn\").upper_bound = 0\n",
        "model.reactions.get_by_id(\"MEHLER\").lower_bound = 0\n",
        "model.reactions.get_by_id(\"MEHLER\").upper_bound = 0\n",
        "\n",
        "# "
      ],
      "execution_count": null,
      "outputs": []
    },
    {
      "cell_type": "code",
      "metadata": {
        "colab": {
          "base_uri": "https://localhost:8080/"
        },
        "id": "XAT7hKZyP0cV",
        "outputId": "7c11ae77-9153-4417-db16-d0cef9b750c3"
      },
      "source": [
        "model.objective = \"DM_g3p_c\"\n",
        "model.optimize()\n",
        "print(model.summary())"
      ],
      "execution_count": null,
      "outputs": [
        {
          "output_type": "stream",
          "text": [
            "Objective\n",
            "=========\n",
            "1.0 DM_g3p_c = 1.233333333333356\n",
            "\n",
            "Uptake\n",
            "------\n",
            "Metabolite     Reaction  Flux  C-Number   C-Flux\n",
            "       h_e       EX_h_e   3.7         0    0.00%\n",
            "    hco3_e    EX_hco3_e   3.7         1  100.00%\n",
            "  photon_e  EX_photon_e 33.11         0    0.00%\n",
            "      pi_e      EX_pi_e 1.233         0    0.00%\n",
            "\n",
            "Secretion\n",
            "---------\n",
            "Metabolite  Reaction   Flux  C-Number   C-Flux\n",
            "     g3p_c  DM_g3p_c -1.233         3  100.00%\n",
            "     h2o_e  EX_h2o_e -1.233         0    0.00%\n",
            "      o2_e   EX_o2_e   -3.7         0    0.00%\n",
            "\n"
          ],
          "name": "stdout"
        }
      ]
    },
    {
      "cell_type": "markdown",
      "metadata": {
        "id": "RnRtFrySJH4c"
      },
      "source": [
        "Mutant M1 knockout genes contraint for simple model."
      ]
    },
    {
      "cell_type": "code",
      "metadata": {
        "colab": {
          "base_uri": "https://localhost:8080/",
          "height": 441
        },
        "id": "X2EMFDiFWkXE",
        "outputId": "fe7fe606-2ea5-4379-df97-4edaf18652a9"
      },
      "source": [
        "model_ndh.reactions.get_by_id(\"NDH1_2p\").lower_bound = 0\n",
        "model_ndh.reactions.get_by_id(\"NDH1_2p\").upper_bound = 0\n",
        "model_ndh.reactions.get_by_id(\"NDH1_2u\").lower_bound = 0\n",
        "model_ndh.reactions.get_by_id(\"NDH1_2u\").upper_bound = 0\n",
        "model_ndh.reactions.get_by_id(\"NDH2_syn\").lower_bound = 0\n",
        "model_ndh.reactions.get_by_id(\"NDH2_syn\").upper_bound = 0\n",
        "model_ndh.reactions.get_by_id(\"GLYCTO1\").lower_bound = 0\n",
        "model_ndh.reactions.get_by_id(\"GLYCTO1\").upper_bound = 0\n",
        "model_ndh.reactions.get_by_id(\"GLUSx\").lower_bound = 0\n",
        "model_ndh.reactions.get_by_id(\"GLUSx\").upper_bound = 0\n",
        "model_ndh.reactions.get_by_id(\"MDH\").lower_bound = 0\n",
        "model_ndh.reactions.get_by_id(\"MDH\").upper_bound = 0\n",
        "model_ndh.reactions.get_by_id(\"POR_syn\").lower_bound = 0\n",
        "model_ndh.reactions.get_by_id(\"POR_syn\").upper_bound = 0\n",
        "model_ndh.reactions.get_by_id(\"NADTRHD\").lower_bound = 0\n",
        "model_ndh.reactions.get_by_id(\"NADTRHD\").upper_bound = 0\n",
        "model_ndh.objective = \"DM_g3p_c\"\n",
        "model_ndh.optimize()\n",
        "model_ndh.summary()"
      ],
      "execution_count": null,
      "outputs": [
        {
          "output_type": "execute_result",
          "data": {
            "text/html": [
              "<h3>Objective</h3><p>1.0 DM_g3p_c = 1.233333333333341</p><h4>Uptake</h4><table border=\"1\" class=\"dataframe\">\n",
              "  <thead>\n",
              "    <tr style=\"text-align: right;\">\n",
              "      <th>Metabolite</th>\n",
              "      <th>Reaction</th>\n",
              "      <th>Flux</th>\n",
              "      <th>C-Number</th>\n",
              "      <th>C-Flux</th>\n",
              "    </tr>\n",
              "  </thead>\n",
              "  <tbody>\n",
              "    <tr>\n",
              "      <td>h_e</td>\n",
              "      <td>EX_h_e</td>\n",
              "      <td>3.7</td>\n",
              "      <td>0</td>\n",
              "      <td>0.00%</td>\n",
              "    </tr>\n",
              "    <tr>\n",
              "      <td>hco3_e</td>\n",
              "      <td>EX_hco3_e</td>\n",
              "      <td>3.7</td>\n",
              "      <td>1</td>\n",
              "      <td>100.00%</td>\n",
              "    </tr>\n",
              "    <tr>\n",
              "      <td>photon_e</td>\n",
              "      <td>EX_photon_e</td>\n",
              "      <td>32.89</td>\n",
              "      <td>0</td>\n",
              "      <td>0.00%</td>\n",
              "    </tr>\n",
              "    <tr>\n",
              "      <td>pi_e</td>\n",
              "      <td>EX_pi_e</td>\n",
              "      <td>1.233</td>\n",
              "      <td>0</td>\n",
              "      <td>0.00%</td>\n",
              "    </tr>\n",
              "  </tbody>\n",
              "</table><h4>Secretion</h4><table border=\"1\" class=\"dataframe\">\n",
              "  <thead>\n",
              "    <tr style=\"text-align: right;\">\n",
              "      <th>Metabolite</th>\n",
              "      <th>Reaction</th>\n",
              "      <th>Flux</th>\n",
              "      <th>C-Number</th>\n",
              "      <th>C-Flux</th>\n",
              "    </tr>\n",
              "  </thead>\n",
              "  <tbody>\n",
              "    <tr>\n",
              "      <td>g3p_c</td>\n",
              "      <td>DM_g3p_c</td>\n",
              "      <td>-1.233</td>\n",
              "      <td>3</td>\n",
              "      <td>100.00%</td>\n",
              "    </tr>\n",
              "    <tr>\n",
              "      <td>h2o_e</td>\n",
              "      <td>EX_h2o_e</td>\n",
              "      <td>-1.233</td>\n",
              "      <td>0</td>\n",
              "      <td>0.00%</td>\n",
              "    </tr>\n",
              "    <tr>\n",
              "      <td>o2_e</td>\n",
              "      <td>EX_o2_e</td>\n",
              "      <td>-3.7</td>\n",
              "      <td>0</td>\n",
              "      <td>0.00%</td>\n",
              "    </tr>\n",
              "  </tbody>\n",
              "</table>"
            ],
            "text/plain": [
              "<cobra.summary.model_summary.ModelSummary at 0x7f00b34f7d10>"
            ]
          },
          "metadata": {
            "tags": []
          },
          "execution_count": 9
        }
      ]
    }
  ]
}